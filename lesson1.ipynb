{
 "cells": [
  {
   "cell_type": "markdown",
   "id": "cda9fc48-f500-4de4-a11a-f585aec86941",
   "metadata": {
    "tags": []
   },
   "source": [
    "# 'numpy\n",
    "\n",
    "- one of the core packages for numerical computing in Python\n",
    "- many packages are built on topy numpy\n",
    "- numpy has been optimized for processing: faster due to memory access"
   ]
  },
  {
   "cell_type": "code",
   "execution_count": 3,
   "id": "9f5ea260-7a57-4661-bf7a-e309822b9079",
   "metadata": {
    "tags": []
   },
   "outputs": [],
   "source": [
    "# import Numpy with standard abbreviation\n",
    "import numpy as np"
   ]
  },
  {
   "cell_type": "markdown",
   "id": "289b365b-d897-4270-a847-c7ccb1956992",
   "metadata": {
    "tags": []
   },
   "source": [
    "#Variables\n",
    "\n",
    "We can think about variables as a name we assign to a particular object in Python. For example:"
   ]
  },
  {
   "cell_type": "code",
   "execution_count": 9,
   "id": "4ecb1b25-3267-41e3-8ca7-a09fbde565f4",
   "metadata": {
    "tags": []
   },
   "outputs": [],
   "source": [
    "# assign a small array to a variable a\n",
    "a = np.array( [ [1,1,2], [3,5,8] ] )"
   ]
  },
  {
   "cell_type": "code",
   "execution_count": null,
   "id": "2c138377-0871-4087-8b74-893146e80795",
   "metadata": {},
   "outputs": [],
   "source": [
    "When we run a cell, we store the variable and its value"
   ]
  },
  {
   "cell_type": "code",
   "execution_count": 10,
   "id": "6e29c2ac-3239-4d65-beb4-dcdd748cc5a8",
   "metadata": {
    "tags": []
   },
   "outputs": [
    {
     "data": {
      "text/plain": [
       "array([[1, 1, 2],\n",
       "       [3, 5, 8]])"
      ]
     },
     "execution_count": 10,
     "metadata": {},
     "output_type": "execute_result"
    }
   ],
   "source": [
    "a"
   ]
  },
  {
   "cell_type": "code",
   "execution_count": 13,
   "id": "e5d9ac13-bb26-434a-831e-ebbc6d31fd2c",
   "metadata": {
    "tags": []
   },
   "outputs": [
    {
     "ename": "NameError",
     "evalue": "name 'array' is not defined",
     "output_type": "error",
     "traceback": [
      "\u001b[0;31m---------------------------------------------------------------------------\u001b[0m",
      "\u001b[0;31mNameError\u001b[0m                                 Traceback (most recent call last)",
      "\u001b[0;32m/tmp/ipykernel_3469522/3326755899.py\u001b[0m in \u001b[0;36m<module>\u001b[0;34m\u001b[0m\n\u001b[0;32m----> 1\u001b[0;31m array([[1,1,2],\n\u001b[0m\u001b[1;32m      2\u001b[0m       [3,5,8]])\n",
      "\u001b[0;31mNameError\u001b[0m: name 'array' is not defined"
     ]
    }
   ],
   "source": [
    "array([[1,1,2],\n",
    "      [3,5,8]])"
   ]
  },
  {
   "cell_type": "raw",
   "id": "d0500227-5f33-4bf7-8375-f9fb70c661e9",
   "metadata": {},
   "source": [
    "print(a)"
   ]
  },
  {
   "cell_type": "markdown",
   "id": "db10048a-88b9-4de8-a789-58210e6afff7",
   "metadata": {},
   "source": [
    "##naming variables\n",
    "\n",
    "in the class we are going to use 'snake case\n",
    "\n",
    "#Variables and objects\n",
    "\n",
    "**object**: often encountered in Python documentation and tutorials. \n",
    "\n",
    "object is a bundle of properties and actions about something specific \n",
    "\n",
    "Example:\n",
    "- object: dataframe\n",
    "- properties: numbers of rows, names of columns, data created\n",
    "- actions: selecting a row, adding a column\n",
    "\n",
    "A variable is a name we give a specific object, and the same object can be referenced by different variables.\n",
    "\n",
    "Examples:\n",
    "\n",
    "- The Sun (actual star at the center of solar system) = object\n",
    "- sol = Spanish word for Sun = variable\n",
    "- soleil = Fren for Sun = another variable\n",
    "\n",
    "In practice: we will use object and variable interchangeably "
   ]
  },
  {
   "cell_type": "markdown",
   "id": "e4923b0a-37b6-4af5-bb6d-30d4143450d2",
   "metadata": {},
   "source": [
    "# Types\n",
    "\n",
    "Each object in Python has a type. \n",
    "\n",
    "type = what kind of object it is\n",
    "\n",
    "We can also call the type of the object, the **class** of the object.\n",
    "\n",
    "We can see the type/class of an object by using the type function:"
   ]
  },
  {
   "cell_type": "code",
   "execution_count": 14,
   "id": "112a4c39-770f-47c6-bfd3-50b4fa844e2d",
   "metadata": {
    "tags": []
   },
   "outputs": [
    {
     "name": "stdout",
     "output_type": "stream",
     "text": [
      "[[1 1 2]\n",
      " [3 5 8]]\n"
     ]
    },
    {
     "data": {
      "text/plain": [
       "numpy.ndarray"
      ]
     },
     "execution_count": 14,
     "metadata": {},
     "output_type": "execute_result"
    }
   ],
   "source": [
    "print(a)\n",
    "type(a)"
   ]
  },
  {
   "cell_type": "markdown",
   "id": "ab5a4328-f46a-466b-ba78-2f09977a7630",
   "metadata": {},
   "source": [
    "The numpy.ndarray is the core object/data type in the NumPy package. We can check the type of an entry in the array by indexing:"
   ]
  },
  {
   "cell_type": "code",
   "execution_count": 15,
   "id": "9bb0c99f-1b1f-458d-ab89-362a2e08f3e3",
   "metadata": {
    "tags": []
   },
   "outputs": [
    {
     "name": "stdout",
     "output_type": "stream",
     "text": [
      "1\n"
     ]
    },
    {
     "data": {
      "text/plain": [
       "numpy.int64"
      ]
     },
     "execution_count": 15,
     "metadata": {},
     "output_type": "execute_result"
    }
   ],
   "source": [
    "print(a[0,0])\n",
    "type(a[0,0])"
   ]
  },
  {
   "cell_type": "code",
   "execution_count": null,
   "id": "0c5028ae-de7d-465d-af48-d0d4aa3369bd",
   "metadata": {},
   "outputs": [],
   "source": [
    "# how would access the value 5 in the array a?"
   ]
  },
  {
   "cell_type": "code",
   "execution_count": 16,
   "id": "073df637-ece9-415b-82b6-fd58db5eae38",
   "metadata": {
    "tags": []
   },
   "outputs": [
    {
     "name": "stdout",
     "output_type": "stream",
     "text": [
      "[[1 1 2]\n",
      " [3 5 8]]\n"
     ]
    },
    {
     "data": {
      "text/plain": [
       "5"
      ]
     },
     "execution_count": 16,
     "metadata": {},
     "output_type": "execute_result"
    }
   ],
   "source": [
    "print(a)\n",
    "a[1,1]"
   ]
  },
  {
   "cell_type": "code",
   "execution_count": 17,
   "id": "748755a2-649f-4c18-8a95-0a3d69bcfa4c",
   "metadata": {
    "tags": []
   },
   "outputs": [
    {
     "data": {
      "text/plain": [
       "5"
      ]
     },
     "execution_count": 17,
     "metadata": {},
     "output_type": "execute_result"
    }
   ],
   "source": [
    "a[1][1]"
   ]
  },
  {
   "cell_type": "markdown",
   "id": "baa5f85c-fa89-428b-b844-926bd344e7cc",
   "metadata": {},
   "source": [
    "# Functions\n",
    "\n",
    "'print' was our example of a Python function! :)\n",
    "\n",
    "A function: \n",
    "- take in a set of **arguments**, separated by commas, and \n",
    "- use those arguments to produce some **output**\n",
    "\n",
    "argument = parameter : you might argue more often in the documentation\n",
    "\n",
    "We can ask information about a function by executing ? followed by the function name:"
   ]
  },
  {
   "cell_type": "code",
   "execution_count": 18,
   "id": "44b429cd-a4f4-4e87-9e9d-2c62c426e6ec",
   "metadata": {
    "tags": []
   },
   "outputs": [
    {
     "data": {
      "text/plain": [
       "\u001b[0;31mDocstring:\u001b[0m\n",
       "print(value, ..., sep=' ', end='\\n', file=sys.stdout, flush=False)\n",
       "\n",
       "Prints the values to a stream, or to sys.stdout by default.\n",
       "Optional keyword arguments:\n",
       "file:  a file-like object (stream); defaults to the current sys.stdout.\n",
       "sep:   string inserted between values, default a space.\n",
       "end:   string appended after the last value, default a newline.\n",
       "flush: whether to forcibly flush the stream.\n",
       "\u001b[0;31mType:\u001b[0m      builtin_function_or_method\n"
      ]
     },
     "metadata": {},
     "output_type": "display_data"
    }
   ],
   "source": [
    "?print"
   ]
  },
  {
   "cell_type": "markdown",
   "id": "e7b8ca8d-4ccd-462b-8c66-3bb7dad91a67",
   "metadata": {},
   "source": [
    "- first line: function showing all of its arugments in parenthesis\n",
    "- then a short description of what the function does\n",
    "- finally, a list of the arguments and a brief explanation of each of them.\n",
    "\n",
    "Different types of arguments inside the parenthesis. Roughly speaking, there are two types of arguments:\n",
    "\n",
    "- **non-arguments**:arguments you need to specify for the function to do something\n",
    "- **optional arguments**: arguments that are pre-filled with a dfault alue by the function, but we can override them. Optional arguments appear inside the parenthesis () in the form\n",
    "\n",
    "'optional argument = default_value'"
   ]
  },
  {
   "cell_type": "code",
   "execution_count": 19,
   "id": "4ec87c26-5313-4f83-99b1-25fdd42fdce5",
   "metadata": {
    "tags": []
   },
   "outputs": [
    {
     "name": "stdout",
     "output_type": "stream",
     "text": [
      "changing the default end argument of the print function:)"
     ]
    }
   ],
   "source": [
    "print('changing the default end argument of the print function', end=':)')"
   ]
  },
  {
   "cell_type": "markdown",
   "id": "54d6065e-a98d-4c37-87d4-8a4b3e81a91a",
   "metadata": {},
   "source": [
    "# Atttributes and Methods\n",
    "\n",
    "An object in Python has attributes and methods.\n",
    "\n",
    "- **attribute**: a property of an object, a piece of information about it.\n",
    "- **method**: a procedure associated with an object, an action where the main ingredient is the object itself.\n",
    "\n",
    "Access a variable's attributes ad methods by adding a period '.' at the end of the variable's name\n",
    "\n",
    "'variable.variable_method()' or\n",
    "'variable.variable_attribute'\n",
    "\n",
    "Examples:\n",
    "\n",
    "Methods and attributes of NumPy arrays\""
   ]
  },
  {
   "cell_type": "code",
   "execution_count": 1,
   "id": "de9adebd-e7fe-4336-9a6c-2a9d214b031f",
   "metadata": {
    "tags": []
   },
   "outputs": [],
   "source": [
    "import numpy as np"
   ]
  },
  {
   "cell_type": "code",
   "execution_count": 3,
   "id": "01839c12-c116-4d08-9b5c-7cd386e8d2f8",
   "metadata": {
    "tags": []
   },
   "outputs": [
    {
     "data": {
      "text/plain": [
       "array([[1, 2, 3],\n",
       "       [4, 5, 6],\n",
       "       [7, 8, 9]])"
      ]
     },
     "execution_count": 3,
     "metadata": {},
     "output_type": "execute_result"
    }
   ],
   "source": [
    "# define a 3x3 array \n",
    "var = np.array([[1,2,3] , [4,5,6], [7,8,9]])\n",
    "var"
   ]
  },
  {
   "cell_type": "code",
   "execution_count": null,
   "id": "f05d2e96-3f61-46d6-b4b4-19b6fdb82f0b",
   "metadata": {},
   "outputs": [],
   "source": [
    "#shape : attribute telling us\n",
    "#the number of elements in \n"
   ]
  },
  {
   "cell_type": "code",
   "execution_count": null,
   "id": "3774adce-f46c-4515-a249-0b01abfad9b6",
   "metadata": {},
   "outputs": [],
   "source": []
  },
  {
   "cell_type": "code",
   "execution_count": 4,
   "id": "83b5a271-674a-4ff5-acd5-4685fdc1eb4e",
   "metadata": {
    "tags": []
   },
   "outputs": [
    {
     "data": {
      "text/plain": [
       "tuple"
      ]
     },
     "execution_count": 4,
     "metadata": {},
     "output_type": "execute_result"
    }
   ],
   "source": [
    "type(var.shape)"
   ]
  },
  {
   "cell_type": "code",
   "execution_count": 5,
   "id": "f8f23fce-3052-43f1-9fa0-bf5e71a6b5fd",
   "metadata": {
    "tags": []
   },
   "outputs": [
    {
     "data": {
      "text/plain": [
       "2"
      ]
     },
     "execution_count": 5,
     "metadata": {},
     "output_type": "execute_result"
    }
   ],
   "source": [
    "# ndim is an attribute holding the number of array dimensions\n",
    "var.ndim"
   ]
  },
  {
   "cell_type": "code",
   "execution_count": 6,
   "id": "3fc467ff-a9e2-4f2f-bd08-0c9b09e415c0",
   "metadata": {
    "tags": []
   },
   "outputs": [
    {
     "data": {
      "text/plain": [
       "int"
      ]
     },
     "execution_count": 6,
     "metadata": {},
     "output_type": "execute_result"
    }
   ],
   "source": [
    "type(var.ndim)"
   ]
  },
  {
   "cell_type": "markdown",
   "id": "7e8b00b2-785b-4ea0-862a-84a7d47f9bde",
   "metadata": {},
   "source": [
    "Notice attribute can have many different adta types\n",
    "\n",
    "Examples of methods:"
   ]
  },
  {
   "cell_type": "code",
   "execution_count": 7,
   "id": "efc8794d-318c-4967-9092-8264f0cf19eb",
   "metadata": {
    "tags": []
   },
   "outputs": [
    {
     "data": {
      "text/plain": [
       "1"
      ]
     },
     "execution_count": 7,
     "metadata": {},
     "output_type": "execute_result"
    }
   ],
   "source": [
    "# min method for array\n",
    "# return the minumum value in the array\n",
    "var.min()"
   ]
  },
  {
   "cell_type": "code",
   "execution_count": 8,
   "id": "aab1a67a-9095-4e7a-9e28-5e4fbf2e45c0",
   "metadata": {
    "tags": []
   },
   "outputs": [
    {
     "data": {
      "text/plain": [
       "builtin_function_or_method"
      ]
     },
     "execution_count": 8,
     "metadata": {},
     "output_type": "execute_result"
    }
   ],
   "source": [
    "type(var.min)"
   ]
  },
  {
   "cell_type": "markdown",
   "id": "5258156d-41b5-4c1e-aad0-886a1270d751",
   "metadata": {},
   "source": [
    "#R & Python\n",
    "\n",
    "R: \n",
    "- doesn't use methods within an object\n",
    "- functions in R are extrinsic to (outside) the objects they are acting on\n",
    "\n",
    "Example: recreate getting teh min value in an array\n",
    "\n",
    "In R there would be two separate items: the variable 'var' and a *separate* function 'min' that gets 'var' as a parameter:\n",
    "\n",
    "```\n",
    "# this is R code\n",
    "var <- array(c(1,4,7,2,5,8,3,6,9), dim=c(3,3)\n",
    "min(var)\n",
    "```\n",
    "\n",
    "Using the pipe operator >%> in R's tidyverse is closer to the '.' in Python:\n",
    "\n",
    "```\n",
    "var <- array(c(1,4,7,2,5,8,3,6,9), dim=c(3,3)\n",
    "var >%> min()\n",
    "```\n",
    "\n",
    "What is happening?\n",
    "The pipe `>%> is passing `var` to the `min()` as it first argument. This is essentially what teh '.' in Python is\n",
    "\n",
    "```\n",
    "var.min()\n",
    "```"
   ]
  }
 ],
 "metadata": {
  "kernelspec": {
   "display_name": "Anaconda 3 (Base)",
   "language": "python",
   "name": "base"
  },
  "language_info": {
   "codemirror_mode": {
    "name": "ipython",
    "version": 3
   },
   "file_extension": ".py",
   "mimetype": "text/x-python",
   "name": "python",
   "nbconvert_exporter": "python",
   "pygments_lexer": "ipython3",
   "version": "3.9.13"
  }
 },
 "nbformat": 4,
 "nbformat_minor": 5
}
